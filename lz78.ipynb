{
  "cells": [
    {
      "cell_type": "code",
      "execution_count": 1,
      "metadata": {
        "colab": {
          "base_uri": "https://localhost:8080/"
        },
        "id": "aQTH9QloEvC2",
        "outputId": "84cebec2-d1af-43a9-c6a6-3398e8b26140"
      },
      "outputs": [
        {
          "name": "stdout",
          "output_type": "stream",
          "text": [
            "Compression for list of random names repeated 3x\n",
            "Compression for string of As and Bs\n",
            "compression: 25.00%\n",
            "0A0B1B2A2B3A4A5B8B9B10B0\n"
          ]
        }
      ],
      "source": [
        "\n",
        "def test_compression(input_string):\n",
        "  compressed = compress(input_string)\n",
        "  a = len(compressed)\n",
        "  b = len(input_string)\n",
        "  print(f\"compression: {100*abs((b-a)/(b)):.2f}%\")\n",
        "\n",
        "# test it out on list of random names\n",
        "import requests\n",
        "\n",
        "\n",
        "# lz 78 compression algo\n",
        "def compress(input_data):\n",
        "  patterns_seen = [''] # dictionary of patterns\n",
        "  compressed_output = \"\" # output string\n",
        "  current_window = '' # current window of analysis\n",
        "\n",
        "  # loop through chars (only needs to look at each char once)\n",
        "  i = 0\n",
        "  while i < len(input_data)+1:\n",
        "    if not (current_window in patterns_seen):\n",
        "      # add found pattern to dictionary\n",
        "      patterns_seen.append(current_window)\n",
        "      # new pattern will only differ by last token\n",
        "      compressed_window = str(patterns_seen.index(current_window[:-1])) + current_window[-1]\n",
        "      compressed_output += compressed_window\n",
        "      current_window = \"\" # reset the window after adding new pattern\n",
        "\n",
        "    if i < len(input_data):\n",
        "      current_window += input_data[i]\n",
        "      i += 1\n",
        "    else:\n",
        "      # add the remainder\n",
        "      compressed_output += str(patterns_seen.index(current_window))\n",
        "      break\n",
        "  return compressed_output\n",
        "\n",
        "# test on list of random names from github\n",
        "url = \"https://raw.githubusercontent.com/dominictarr/random-name/master/first-names.txt\"\n",
        "list_of_random_names = requests.get(url).text.upper()\n",
        "print(\"Compression for list of random names repeated 3x\")\n",
        "test_compression(list_of_random_names*3)\n",
        "\n",
        "# test on random As and Bs\n",
        "print(\"Compression for string of As and Bs\")\n",
        "test_compression(\"ABABBABBABABAABBBBBBBBBBBBBBBBBB\")\n",
        "print(compress(\"ABABBABBABABAABBBBBBBBBBBBBBBBBB\"))\n",
        "\n"
      ]
    },
    {
      "cell_type": "code",
      "execution_count": 2,
      "metadata": {
        "colab": {
          "base_uri": "https://localhost:8080/"
        },
        "id": "IvAHFDqAWz4f",
        "outputId": "972a3b20-c9f0-480e-df4f-a4148440c4eb"
      },
      "outputs": [
        {
          "name": "stdout",
          "output_type": "stream",
          "text": [
            "AB B BBBA B BAB AAB AAA AB AB BA AAB BB BBBA B ABAA AAA BBA BBA BAAB AB B BBBA B BAB AAB AAA AB AB BA BABB B A ABAA AAA BBA ABB AAA BAA AB\n",
            "0A0B0 2 2B2A3B7A4A1B3A1A11B13 6 12B7B17B1 9B12 12A17A23 6A20 4B5A7 6B11A9A19A26B19B10B29A13A33A35B33B32A8A13\n",
            "True\n"
          ]
        }
      ],
      "source": [
        "msg = \"-. . ...- . .-. --. --- -. -. .- --. .. ...- . -.-- --- ..- ..- .--. -. . ...- . .-. --. --- -. -. .- .-.. . - -.-- --- ..- -.. --- .-- -.\"\n",
        "msg = msg.replace('.', 'B').replace('-', 'A')\n",
        "print(msg)\n",
        "print(compress(msg))\n",
        "\n",
        "pix_decoded = \"AB B BBBA B BAB AAB AAA AB AB BA AAB BB BBBA B ABAA AAA BBA BBA BAAB AB B BBBA B BAB AAB AAA AB AB BA BABB B A ABAA AAA BBA ABB AAA BAA AB\"\n",
        "print(pix_decoded == msg)"
      ]
    }
  ],
  "metadata": {
    "colab": {
      "provenance": []
    },
    "kernelspec": {
      "display_name": "Python 3",
      "name": "python3"
    },
    "language_info": {
      "codemirror_mode": {
        "name": "ipython",
        "version": 3
      },
      "file_extension": ".py",
      "mimetype": "text/x-python",
      "name": "python",
      "nbconvert_exporter": "python",
      "pygments_lexer": "ipython3",
      "version": "3.10.12"
    }
  },
  "nbformat": 4,
  "nbformat_minor": 0
}
